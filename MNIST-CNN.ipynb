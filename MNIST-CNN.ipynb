{
 "cells": [
  {
   "cell_type": "markdown",
   "metadata": {},
   "source": [
    "# MNIST Digits Classification\n",
    "This notebook trains a Convolutional Neural Network model to classify the MNIST dataset that consists of 28x28 pixel images of handwritten digits with their labels. It uses the Keras library with Tensorflow backend.\n",
    "\n",
    "## Load Data"
   ]
  },
  {
   "cell_type": "code",
   "execution_count": 17,
   "metadata": {},
   "outputs": [],
   "source": [
    "from keras.datasets import mnist\n",
    "IMAGE_SIZE = 28\n",
    "\n",
    "(x_train, y_train), (x_test, y_test) = mnist.load_data()"
   ]
  },
  {
   "cell_type": "markdown",
   "metadata": {},
   "source": [
    "## Preprocess Data\n",
    "The input images are normalized and the output classes are one-hot encoded. Images are reshaped to the model input dimensions."
   ]
  },
  {
   "cell_type": "code",
   "execution_count": 18,
   "metadata": {},
   "outputs": [
    {
     "name": "stdout",
     "output_type": "stream",
     "text": [
      "x_train max 1.0\n",
      "x_train min 0.0\n",
      "y_train min 0\n",
      "y_train max 9\n",
      "x_train shape (60000, 28, 28, 1)\n",
      "x_test shape (60000, 28, 28, 1)\n"
     ]
    }
   ],
   "source": [
    "import keras\n",
    "\n",
    "def preprocess(x_train, y_train, x_test, y_test):\n",
    "    # Normalize to between 0 and 1\n",
    "    x_train = x_train.astype('float32') / 255\n",
    "    x_test = x_test.astype('float32') / 255\n",
    "    print('x_train max', x_train.max())\n",
    "    print('x_train min', x_train.min())\n",
    "\n",
    "    NUM_CLASSES = 10\n",
    "    print('y_train min', y_train.min())\n",
    "    print('y_train max', y_train.max())\n",
    "\n",
    "    # one-hot encode labels\n",
    "    y_train = keras.utils.to_categorical(y_train, NUM_CLASSES)\n",
    "    y_test = keras.utils.to_categorical(y_test, NUM_CLASSES)\n",
    "\n",
    "    # Reshape to model input\n",
    "    x_train = x_train.reshape(-1, IMAGE_SIZE, IMAGE_SIZE, 1)\n",
    "    x_test = x_test.reshape(-1, IMAGE_SIZE, IMAGE_SIZE, 1)\n",
    "    print('x_train shape', x_train.shape)\n",
    "    print('x_test shape', x_train.shape)\n",
    "    \n",
    "    return x_train, y_train, x_test, y_test\n",
    "\n",
    "x_train, y_train, x_test, y_test = preprocess(x_train, y_train, x_test, y_test)"
   ]
  },
  {
   "cell_type": "markdown",
   "metadata": {},
   "source": [
    "## Model Architecture\n"
   ]
  },
  {
   "cell_type": "code",
   "execution_count": 40,
   "metadata": {},
   "outputs": [
    {
     "name": "stdout",
     "output_type": "stream",
     "text": [
      "__________________________________________________________________________________________________\n",
      "Layer (type)                    Output Shape         Param #     Connected to                     \n",
      "==================================================================================================\n",
      "input_7 (InputLayer)            (None, 28, 28, 1)    0                                            \n",
      "__________________________________________________________________________________________________\n",
      "conv2d_31 (Conv2D)              (None, 28, 28, 32)   320         input_7[0][0]                    \n",
      "__________________________________________________________________________________________________\n",
      "max_pooling2d_24 (MaxPooling2D) (None, 14, 14, 32)   0           conv2d_31[0][0]                  \n",
      "__________________________________________________________________________________________________\n",
      "conv2d_32 (Conv2D)              (None, 14, 14, 64)   18496       max_pooling2d_24[0][0]           \n",
      "__________________________________________________________________________________________________\n",
      "conv2d_33 (Conv2D)              (None, 14, 14, 64)   18496       max_pooling2d_24[0][0]           \n",
      "__________________________________________________________________________________________________\n",
      "max_pooling2d_25 (MaxPooling2D) (None, 7, 7, 64)     0           conv2d_32[0][0]                  \n",
      "__________________________________________________________________________________________________\n",
      "max_pooling2d_26 (MaxPooling2D) (None, 7, 7, 64)     0           conv2d_33[0][0]                  \n",
      "__________________________________________________________________________________________________\n",
      "conv2d_34 (Conv2D)              (None, 7, 7, 256)    147712      max_pooling2d_25[0][0]           \n",
      "__________________________________________________________________________________________________\n",
      "conv2d_35 (Conv2D)              (None, 7, 7, 256)    147712      max_pooling2d_26[0][0]           \n",
      "__________________________________________________________________________________________________\n",
      "concatenate_7 (Concatenate)     (None, 7, 7, 512)    0           conv2d_34[0][0]                  \n",
      "                                                                 conv2d_35[0][0]                  \n",
      "__________________________________________________________________________________________________\n",
      "max_pooling2d_27 (MaxPooling2D) (None, 3, 3, 512)    0           concatenate_7[0][0]              \n",
      "__________________________________________________________________________________________________\n",
      "flatten_7 (Flatten)             (None, 4608)         0           max_pooling2d_27[0][0]           \n",
      "__________________________________________________________________________________________________\n",
      "dense_19 (Dense)                (None, 1000)         4609000     flatten_7[0][0]                  \n",
      "__________________________________________________________________________________________________\n",
      "dense_20 (Dense)                (None, 500)          500500      dense_19[0][0]                   \n",
      "__________________________________________________________________________________________________\n",
      "dense_21 (Dense)                (None, 10)           5010        dense_20[0][0]                   \n",
      "==================================================================================================\n",
      "Total params: 5,447,246\n",
      "Trainable params: 5,447,246\n",
      "Non-trainable params: 0\n",
      "__________________________________________________________________________________________________\n"
     ]
    }
   ],
   "source": [
    "from keras.models import Model\n",
    "from keras.layers import concatenate, Conv2D, Dense, Flatten, Input, MaxPooling2D\n",
    "\n",
    "IMAGE_SIZE = 28\n",
    "FILTER_SHAPE = (3, 3)\n",
    "\n",
    "\n",
    "def create_model():\n",
    "    inputs = Input(shape=(IMAGE_SIZE, IMAGE_SIZE, 1))\n",
    "\n",
    "    conv1 = Conv2D(32, FILTER_SHAPE, activation='relu', padding='same')(inputs)\n",
    "    pool1 = MaxPooling2D()(conv1)\n",
    "\n",
    "    conv2_1 = Conv2D(64, FILTER_SHAPE, activation='relu', padding='same')(pool1)\n",
    "    pool2_1 = MaxPooling2D()(conv2_1)\n",
    "    conv2_2 = Conv2D(64, FILTER_SHAPE, activation='relu', padding='same')(pool1)\n",
    "    pool2_2 = MaxPooling2D()(conv2_2)\n",
    "\n",
    "    conv3_1 = Conv2D(256, FILTER_SHAPE, activation='relu', padding='same')(pool2_1)\n",
    "    conv3_2 = Conv2D(256, FILTER_SHAPE, activation='relu', padding='same')(pool2_2)\n",
    "    conv3 = concatenate([conv3_1, conv3_2])\n",
    "    pool3 = MaxPooling2D()(conv3)\n",
    "\n",
    "    flattened_conv3 = Flatten()(pool3)\n",
    "    fc1 = Dense(1000, activation='relu')(flattened_conv3)\n",
    "    fc2 = Dense(500, activation='relu')(fc1)\n",
    "    outputs = Dense(10, activation='softmax')(fc2)\n",
    "\n",
    "    model = Model(inputs, outputs)\n",
    "    model.summary()\n",
    "    return model\n",
    "\n",
    "model = create_model()"
   ]
  },
  {
   "cell_type": "code",
   "execution_count": null,
   "metadata": {},
   "outputs": [
    {
     "name": "stdout",
     "output_type": "stream",
     "text": [
      "Train on 54000 samples, validate on 6000 samples\n",
      "Epoch 1/100\n",
      "54000/54000 [==============================] - 58s 1ms/step - loss: 0.1093 - acc: 0.9686 - val_loss: 0.0718 - val_acc: 0.9807\n",
      "Epoch 2/100\n",
      "54000/54000 [==============================] - 59s 1ms/step - loss: 0.0589 - acc: 0.9842 - val_loss: 0.0450 - val_acc: 0.9878\n",
      "Epoch 3/100\n",
      "54000/54000 [==============================] - 59s 1ms/step - loss: 0.0463 - acc: 0.9871 - val_loss: 0.0378 - val_acc: 0.9895\n",
      "Epoch 4/100\n",
      "54000/54000 [==============================] - 60s 1ms/step - loss: 0.0402 - acc: 0.9896 - val_loss: 0.0449 - val_acc: 0.9908\n",
      "Epoch 5/100\n",
      "54000/54000 [==============================] - 62s 1ms/step - loss: 0.0374 - acc: 0.9903 - val_loss: 0.0465 - val_acc: 0.9893\n",
      "Epoch 6/100\n",
      "54000/54000 [==============================] - 61s 1ms/step - loss: 0.0336 - acc: 0.9915 - val_loss: 0.0301 - val_acc: 0.9928\n",
      "Epoch 7/100\n",
      "54000/54000 [==============================] - 61s 1ms/step - loss: 0.0312 - acc: 0.9921 - val_loss: 0.0614 - val_acc: 0.9888\n",
      "Epoch 8/100\n",
      "51160/54000 [===========================>..] - ETA: 3s - loss: 0.0317 - acc: 0.9925"
     ]
    }
   ],
   "source": [
    "model.compile(loss='categorical_crossentropy',\n",
    "              optimizer='adam',\n",
    "              metrics=['accuracy'])\n",
    "\n",
    "model.fit(x_train, y_train,\n",
    "          batch_size=8,\n",
    "          epochs=100,\n",
    "          shuffle=True,\n",
    "          verbose=1,\n",
    "          validation_split=0.1\n",
    "         )\n",
    "\n",
    "model.save('model.h5')"
   ]
  },
  {
   "cell_type": "markdown",
   "metadata": {},
   "source": [
    "# Results\n",
    "Gets to 99.25% test accuracy after 12 epochs\n"
   ]
  },
  {
   "cell_type": "code",
   "execution_count": null,
   "metadata": {},
   "outputs": [],
   "source": [
    "score = model.evaluate(x_test, y_test, verbose=0)\n",
    "print('Test loss:', score[0])\n",
    "print('Test accuracy:', score[1])"
   ]
  }
 ],
 "metadata": {
  "kernelspec": {
   "display_name": "Python 3",
   "language": "python",
   "name": "python3"
  },
  "language_info": {
   "codemirror_mode": {
    "name": "ipython",
    "version": 3
   },
   "file_extension": ".py",
   "mimetype": "text/x-python",
   "name": "python",
   "nbconvert_exporter": "python",
   "pygments_lexer": "ipython3",
   "version": "3.6.5"
  }
 },
 "nbformat": 4,
 "nbformat_minor": 2
}
